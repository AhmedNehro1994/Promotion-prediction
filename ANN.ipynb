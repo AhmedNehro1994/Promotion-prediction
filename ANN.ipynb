{
 "cells": [
  {
   "cell_type": "markdown",
   "id": "d6003e46-d5d4-40a0-9ec0-a519388415fe",
   "metadata": {},
   "source": [
    "There are several criteria and variables that determine whether an employee is a candidate for promotion, including age, length of service, gender, and qualifying training periods. This data has been collected for people who have been promoted, and what is required is to design a predictive model about whether an employee is likely to be nominated for a promotion. In light of this, we will explore the data and build a model that will help the administration reduce its burden in searching for the appropriate candidate\n",
    "\n",
    "# <h1 style='background:#EED4E5; border:0; color:black'><center>Promotion prediction</center></h1> \n",
    "\n",
    "\n",
    "   <a id='top'></a>\n",
    "<div class=\"list-group\" id=\"list-tab\" role=\"tablist\">\n",
    "<h1 style='background:#EED4E5; border:0; color:black'><center>TABLE OF CONTENTS</center></h1>"
   ]
  },
  {
   "cell_type": "code",
   "execution_count": 355,
   "id": "943bcefe-f620-4afe-b27e-6f8807828455",
   "metadata": {},
   "outputs": [],
   "source": [
    "import pandas as pd\n",
    "import numpy as np\n",
    "import matplotlib.pyplot as plt\n",
    "import seaborn as sns \n",
    "%matplotlib inline \n",
    "sns.set(rc = {'figure.figsize' : [5,5]} , font_scale = 1.3)\n",
    "import warnings \n",
    "warnings.filterwarnings('ignore')"
   ]
  },
  {
   "cell_type": "code",
   "execution_count": 356,
   "id": "90db23c6-672a-49f5-9dc8-653006a1dd29",
   "metadata": {},
   "outputs": [],
   "source": [
    "df = pd.read_csv(\"train.csv\")"
   ]
  },
  {
   "cell_type": "markdown",
   "id": "34a87b8e-3fbf-49e3-bd59-d0f63c264e68",
   "metadata": {},
   "source": [
    "## Explore data"
   ]
  },
  {
   "cell_type": "code",
   "execution_count": 357,
   "id": "d420c0ec-289e-424c-b90d-c6b7151b1e02",
   "metadata": {},
   "outputs": [
    {
     "data": {
      "text/html": [
       "<div>\n",
       "<style scoped>\n",
       "    .dataframe tbody tr th:only-of-type {\n",
       "        vertical-align: middle;\n",
       "    }\n",
       "\n",
       "    .dataframe tbody tr th {\n",
       "        vertical-align: top;\n",
       "    }\n",
       "\n",
       "    .dataframe thead th {\n",
       "        text-align: right;\n",
       "    }\n",
       "</style>\n",
       "<table border=\"1\" class=\"dataframe\">\n",
       "  <thead>\n",
       "    <tr style=\"text-align: right;\">\n",
       "      <th></th>\n",
       "      <th>employee_id</th>\n",
       "      <th>department</th>\n",
       "      <th>region</th>\n",
       "      <th>education</th>\n",
       "      <th>gender</th>\n",
       "      <th>recruitment_channel</th>\n",
       "      <th>no_of_trainings</th>\n",
       "      <th>age</th>\n",
       "      <th>previous_year_rating</th>\n",
       "      <th>length_of_service</th>\n",
       "      <th>awards_won?</th>\n",
       "      <th>avg_training_score</th>\n",
       "      <th>is_promoted</th>\n",
       "    </tr>\n",
       "  </thead>\n",
       "  <tbody>\n",
       "    <tr>\n",
       "      <th>0</th>\n",
       "      <td>65438</td>\n",
       "      <td>Sales &amp; Marketing</td>\n",
       "      <td>region_7</td>\n",
       "      <td>Master's &amp; above</td>\n",
       "      <td>f</td>\n",
       "      <td>sourcing</td>\n",
       "      <td>1</td>\n",
       "      <td>35</td>\n",
       "      <td>5.0</td>\n",
       "      <td>8</td>\n",
       "      <td>0</td>\n",
       "      <td>49</td>\n",
       "      <td>0</td>\n",
       "    </tr>\n",
       "    <tr>\n",
       "      <th>1</th>\n",
       "      <td>65141</td>\n",
       "      <td>Operations</td>\n",
       "      <td>region_22</td>\n",
       "      <td>Bachelor's</td>\n",
       "      <td>m</td>\n",
       "      <td>other</td>\n",
       "      <td>1</td>\n",
       "      <td>30</td>\n",
       "      <td>5.0</td>\n",
       "      <td>4</td>\n",
       "      <td>0</td>\n",
       "      <td>60</td>\n",
       "      <td>0</td>\n",
       "    </tr>\n",
       "    <tr>\n",
       "      <th>2</th>\n",
       "      <td>7513</td>\n",
       "      <td>Sales &amp; Marketing</td>\n",
       "      <td>region_19</td>\n",
       "      <td>Bachelor's</td>\n",
       "      <td>m</td>\n",
       "      <td>sourcing</td>\n",
       "      <td>1</td>\n",
       "      <td>34</td>\n",
       "      <td>3.0</td>\n",
       "      <td>7</td>\n",
       "      <td>0</td>\n",
       "      <td>50</td>\n",
       "      <td>0</td>\n",
       "    </tr>\n",
       "    <tr>\n",
       "      <th>3</th>\n",
       "      <td>2542</td>\n",
       "      <td>Sales &amp; Marketing</td>\n",
       "      <td>region_23</td>\n",
       "      <td>Bachelor's</td>\n",
       "      <td>m</td>\n",
       "      <td>other</td>\n",
       "      <td>2</td>\n",
       "      <td>39</td>\n",
       "      <td>1.0</td>\n",
       "      <td>10</td>\n",
       "      <td>0</td>\n",
       "      <td>50</td>\n",
       "      <td>0</td>\n",
       "    </tr>\n",
       "    <tr>\n",
       "      <th>4</th>\n",
       "      <td>48945</td>\n",
       "      <td>Technology</td>\n",
       "      <td>region_26</td>\n",
       "      <td>Bachelor's</td>\n",
       "      <td>m</td>\n",
       "      <td>other</td>\n",
       "      <td>1</td>\n",
       "      <td>45</td>\n",
       "      <td>3.0</td>\n",
       "      <td>2</td>\n",
       "      <td>0</td>\n",
       "      <td>73</td>\n",
       "      <td>0</td>\n",
       "    </tr>\n",
       "  </tbody>\n",
       "</table>\n",
       "</div>"
      ],
      "text/plain": [
       "   employee_id         department     region         education gender  \\\n",
       "0        65438  Sales & Marketing   region_7  Master's & above      f   \n",
       "1        65141         Operations  region_22        Bachelor's      m   \n",
       "2         7513  Sales & Marketing  region_19        Bachelor's      m   \n",
       "3         2542  Sales & Marketing  region_23        Bachelor's      m   \n",
       "4        48945         Technology  region_26        Bachelor's      m   \n",
       "\n",
       "  recruitment_channel  no_of_trainings  age  previous_year_rating  \\\n",
       "0            sourcing                1   35                   5.0   \n",
       "1               other                1   30                   5.0   \n",
       "2            sourcing                1   34                   3.0   \n",
       "3               other                2   39                   1.0   \n",
       "4               other                1   45                   3.0   \n",
       "\n",
       "   length_of_service  awards_won?  avg_training_score  is_promoted  \n",
       "0                  8            0                  49            0  \n",
       "1                  4            0                  60            0  \n",
       "2                  7            0                  50            0  \n",
       "3                 10            0                  50            0  \n",
       "4                  2            0                  73            0  "
      ]
     },
     "execution_count": 357,
     "metadata": {},
     "output_type": "execute_result"
    }
   ],
   "source": [
    "df.head() "
   ]
  },
  {
   "cell_type": "code",
   "execution_count": 358,
   "id": "d590ca35-d11e-48c0-85a0-ee5fec06672d",
   "metadata": {},
   "outputs": [
    {
     "data": {
      "text/plain": [
       "0"
      ]
     },
     "execution_count": 358,
     "metadata": {},
     "output_type": "execute_result"
    }
   ],
   "source": [
    "df.duplicated().sum()"
   ]
  },
  {
   "cell_type": "code",
   "execution_count": 359,
   "id": "5f7b8d60-4629-44be-b325-d9d7ca82dc18",
   "metadata": {},
   "outputs": [
    {
     "data": {
      "text/plain": [
       "employee_id                0\n",
       "department                 0\n",
       "region                     0\n",
       "education               2409\n",
       "gender                     0\n",
       "recruitment_channel        0\n",
       "no_of_trainings            0\n",
       "age                        0\n",
       "previous_year_rating    4124\n",
       "length_of_service          0\n",
       "awards_won?                0\n",
       "avg_training_score         0\n",
       "is_promoted                0\n",
       "dtype: int64"
      ]
     },
     "execution_count": 359,
     "metadata": {},
     "output_type": "execute_result"
    }
   ],
   "source": [
    "df.isna().sum()"
   ]
  },
  {
   "cell_type": "code",
   "execution_count": 360,
   "id": "b3b18ddb-6c58-406c-809e-156fecd61f33",
   "metadata": {},
   "outputs": [
    {
     "data": {
      "text/html": [
       "<div>\n",
       "<style scoped>\n",
       "    .dataframe tbody tr th:only-of-type {\n",
       "        vertical-align: middle;\n",
       "    }\n",
       "\n",
       "    .dataframe tbody tr th {\n",
       "        vertical-align: top;\n",
       "    }\n",
       "\n",
       "    .dataframe thead th {\n",
       "        text-align: right;\n",
       "    }\n",
       "</style>\n",
       "<table border=\"1\" class=\"dataframe\">\n",
       "  <thead>\n",
       "    <tr style=\"text-align: right;\">\n",
       "      <th></th>\n",
       "      <th>employee_id</th>\n",
       "      <th>no_of_trainings</th>\n",
       "      <th>age</th>\n",
       "      <th>previous_year_rating</th>\n",
       "      <th>length_of_service</th>\n",
       "      <th>awards_won?</th>\n",
       "      <th>avg_training_score</th>\n",
       "      <th>is_promoted</th>\n",
       "    </tr>\n",
       "  </thead>\n",
       "  <tbody>\n",
       "    <tr>\n",
       "      <th>count</th>\n",
       "      <td>54808.000000</td>\n",
       "      <td>54808.000000</td>\n",
       "      <td>54808.000000</td>\n",
       "      <td>50684.000000</td>\n",
       "      <td>54808.000000</td>\n",
       "      <td>54808.000000</td>\n",
       "      <td>54808.000000</td>\n",
       "      <td>54808.000000</td>\n",
       "    </tr>\n",
       "    <tr>\n",
       "      <th>mean</th>\n",
       "      <td>39195.830627</td>\n",
       "      <td>1.253011</td>\n",
       "      <td>34.803915</td>\n",
       "      <td>3.329256</td>\n",
       "      <td>5.865512</td>\n",
       "      <td>0.023172</td>\n",
       "      <td>63.386750</td>\n",
       "      <td>0.085170</td>\n",
       "    </tr>\n",
       "    <tr>\n",
       "      <th>std</th>\n",
       "      <td>22586.581449</td>\n",
       "      <td>0.609264</td>\n",
       "      <td>7.660169</td>\n",
       "      <td>1.259993</td>\n",
       "      <td>4.265094</td>\n",
       "      <td>0.150450</td>\n",
       "      <td>13.371559</td>\n",
       "      <td>0.279137</td>\n",
       "    </tr>\n",
       "    <tr>\n",
       "      <th>min</th>\n",
       "      <td>1.000000</td>\n",
       "      <td>1.000000</td>\n",
       "      <td>20.000000</td>\n",
       "      <td>1.000000</td>\n",
       "      <td>1.000000</td>\n",
       "      <td>0.000000</td>\n",
       "      <td>39.000000</td>\n",
       "      <td>0.000000</td>\n",
       "    </tr>\n",
       "    <tr>\n",
       "      <th>25%</th>\n",
       "      <td>19669.750000</td>\n",
       "      <td>1.000000</td>\n",
       "      <td>29.000000</td>\n",
       "      <td>3.000000</td>\n",
       "      <td>3.000000</td>\n",
       "      <td>0.000000</td>\n",
       "      <td>51.000000</td>\n",
       "      <td>0.000000</td>\n",
       "    </tr>\n",
       "    <tr>\n",
       "      <th>50%</th>\n",
       "      <td>39225.500000</td>\n",
       "      <td>1.000000</td>\n",
       "      <td>33.000000</td>\n",
       "      <td>3.000000</td>\n",
       "      <td>5.000000</td>\n",
       "      <td>0.000000</td>\n",
       "      <td>60.000000</td>\n",
       "      <td>0.000000</td>\n",
       "    </tr>\n",
       "    <tr>\n",
       "      <th>75%</th>\n",
       "      <td>58730.500000</td>\n",
       "      <td>1.000000</td>\n",
       "      <td>39.000000</td>\n",
       "      <td>4.000000</td>\n",
       "      <td>7.000000</td>\n",
       "      <td>0.000000</td>\n",
       "      <td>76.000000</td>\n",
       "      <td>0.000000</td>\n",
       "    </tr>\n",
       "    <tr>\n",
       "      <th>max</th>\n",
       "      <td>78298.000000</td>\n",
       "      <td>10.000000</td>\n",
       "      <td>60.000000</td>\n",
       "      <td>5.000000</td>\n",
       "      <td>37.000000</td>\n",
       "      <td>1.000000</td>\n",
       "      <td>99.000000</td>\n",
       "      <td>1.000000</td>\n",
       "    </tr>\n",
       "  </tbody>\n",
       "</table>\n",
       "</div>"
      ],
      "text/plain": [
       "        employee_id  no_of_trainings           age  previous_year_rating  \\\n",
       "count  54808.000000     54808.000000  54808.000000          50684.000000   \n",
       "mean   39195.830627         1.253011     34.803915              3.329256   \n",
       "std    22586.581449         0.609264      7.660169              1.259993   \n",
       "min        1.000000         1.000000     20.000000              1.000000   \n",
       "25%    19669.750000         1.000000     29.000000              3.000000   \n",
       "50%    39225.500000         1.000000     33.000000              3.000000   \n",
       "75%    58730.500000         1.000000     39.000000              4.000000   \n",
       "max    78298.000000        10.000000     60.000000              5.000000   \n",
       "\n",
       "       length_of_service   awards_won?  avg_training_score   is_promoted  \n",
       "count       54808.000000  54808.000000        54808.000000  54808.000000  \n",
       "mean            5.865512      0.023172           63.386750      0.085170  \n",
       "std             4.265094      0.150450           13.371559      0.279137  \n",
       "min             1.000000      0.000000           39.000000      0.000000  \n",
       "25%             3.000000      0.000000           51.000000      0.000000  \n",
       "50%             5.000000      0.000000           60.000000      0.000000  \n",
       "75%             7.000000      0.000000           76.000000      0.000000  \n",
       "max            37.000000      1.000000           99.000000      1.000000  "
      ]
     },
     "execution_count": 360,
     "metadata": {},
     "output_type": "execute_result"
    }
   ],
   "source": [
    "df.describe()"
   ]
  },
  {
   "cell_type": "code",
   "execution_count": 361,
   "id": "5c255e24-6fbd-46cb-979e-d3f378957bb1",
   "metadata": {},
   "outputs": [
    {
     "data": {
      "image/png": "[encoded data removed]",
      "text/plain": [
       "<Figure size 2000x1000 with 1 Axes>"
      ]
     },
     "metadata": {},
     "output_type": "display_data"
    }
   ],
   "source": [
    "colours = [\"#D0DBEE\", \"#C2C4E2\", \"#EED4E5\", \"#D1E6DC\", \"#BDE2E2\"]\n",
    "plt.figure(figsize=(20,10))\n",
    "sns.boxenplot(df.describe() ,palette = colours)\n",
    "plt.xticks(rotation=90)\n",
    "plt.show()"
   ]
  },
  {
   "cell_type": "markdown",
   "id": "514e57f5-ae89-4c24-a99a-4878c4cfbaaa",
   "metadata": {},
   "source": [
    "## Data preprocessing\n",
    "Handle the missing values \n",
    "There are some strategies to handle missing values \n",
    "The mode will be good choice for the categorical values and the median for the numerical"
   ]
  },
  {
   "cell_type": "code",
   "execution_count": 362,
   "id": "f6daefc5-0a86-4806-9fc1-6fad6c8ac6ce",
   "metadata": {},
   "outputs": [],
   "source": [
    "def ask (x):\n",
    "    if x == 'f' :\n",
    "        return 0\n",
    "    else :\n",
    "        return 1"
   ]
  },
  {
   "cell_type": "code",
   "execution_count": 363,
   "id": "a917e08b-45c3-4b83-acae-b0bd4682a7e3",
   "metadata": {},
   "outputs": [],
   "source": [
    "df['gender']=df['gender'].apply(ask)"
   ]
  },
  {
   "cell_type": "code",
   "execution_count": 364,
   "id": "f11d7559-5297-46c0-b978-d2fec2851677",
   "metadata": {},
   "outputs": [],
   "source": [
    "df['education'].fillna(df['education'].mode()[0],axis = 0, inplace =True)"
   ]
  },
  {
   "cell_type": "code",
   "execution_count": 365,
   "id": "e2abf38c-5b10-4850-b2d8-d101d1f9b7e2",
   "metadata": {},
   "outputs": [],
   "source": [
    "df['previous_year_rating'].fillna(df['previous_year_rating'].median(),axis = 0, inplace =True)"
   ]
  },
  {
   "cell_type": "code",
   "execution_count": 366,
   "id": "cf171d14-9197-4f75-8c56-4be28b6c9de8",
   "metadata": {},
   "outputs": [],
   "source": [
    "edu = {\"Bachelor's\":2,\"Master's & above\":1,\"Below Secondary\":3}"
   ]
  },
  {
   "cell_type": "code",
   "execution_count": 367,
   "id": "3946d2c2-df51-4bf0-a9e5-3527640d1120",
   "metadata": {},
   "outputs": [],
   "source": [
    "df['education']= df['education'].map(edu)"
   ]
  },
  {
   "cell_type": "code",
   "execution_count": 368,
   "id": "57c75e16-b42d-48b5-b4c4-e2cce04e8e14",
   "metadata": {},
   "outputs": [],
   "source": [
    "df.drop('employee_id',axis = 1 , inplace = True)"
   ]
  },
  {
   "cell_type": "code",
   "execution_count": 369,
   "id": "b170d545-8f3f-452b-b90c-2611d1abdf86",
   "metadata": {},
   "outputs": [
    {
     "data": {
      "text/plain": [
       "department              0\n",
       "region                  0\n",
       "education               0\n",
       "gender                  0\n",
       "recruitment_channel     0\n",
       "no_of_trainings         0\n",
       "age                     0\n",
       "previous_year_rating    0\n",
       "length_of_service       0\n",
       "awards_won?             0\n",
       "avg_training_score      0\n",
       "is_promoted             0\n",
       "dtype: int64"
      ]
     },
     "execution_count": 369,
     "metadata": {},
     "output_type": "execute_result"
    }
   ],
   "source": [
    "df.isna().sum()"
   ]
  },
  {
   "cell_type": "markdown",
   "id": "92b196fc-545a-4c80-bd26-6676f481cb98",
   "metadata": {},
   "source": [
    "## \n",
    "Is_promoted column represents the candidates which 1 refer to yes and 0 to no \n",
    "The department has the most candidates"
   ]
  },
  {
   "cell_type": "code",
   "execution_count": 370,
   "id": "53ded913-1728-44b4-bb74-172a274c8b6e",
   "metadata": {},
   "outputs": [
    {
     "data": {
      "text/plain": [
       "<Axes: xlabel='is_promoted', ylabel='count'>"
      ]
     },
     "execution_count": 370,
     "metadata": {},
     "output_type": "execute_result"
    },
    {
     "data": {
      "image/png": "[encoded data removed]",
      "text/plain": [
       "<Figure size 500x500 with 1 Axes>"
      ]
     },
     "metadata": {},
     "output_type": "display_data"
    }
   ],
   "source": [
    "\n",
    "sns.countplot(df  , x= 'is_promoted')"
   ]
  },
  {
   "cell_type": "code",
   "execution_count": 371,
   "id": "8b38c54a-0e70-45ba-9276-3305f4e195dd",
   "metadata": {},
   "outputs": [
    {
     "data": {
      "text/plain": [
       "department\n",
       "Sales & Marketing    1213\n",
       "Operations           1023\n",
       "Technology            768\n",
       "Procurement           688\n",
       "Analytics             512\n",
       "Finance               206\n",
       "HR                    136\n",
       "R&D                    69\n",
       "Legal                  53\n",
       "Name: count, dtype: int64"
      ]
     },
     "execution_count": 371,
     "metadata": {},
     "output_type": "execute_result"
    }
   ],
   "source": [
    "df[df['is_promoted']== 1]['department'].value_counts()"
   ]
  },
  {
   "cell_type": "code",
   "execution_count": 372,
   "id": "b7385bf1-371a-4f9c-aeca-69313066bfc3",
   "metadata": {},
   "outputs": [
    {
     "data": {
      "text/plain": [
       "71.32519280205655"
      ]
     },
     "execution_count": 372,
     "metadata": {},
     "output_type": "execute_result"
    }
   ],
   "source": [
    "df[df['is_promoted']== 1]['avg_training_score'].mean()"
   ]
  },
  {
   "cell_type": "code",
   "execution_count": 373,
   "id": "2cae7bcf-e17d-44bf-a630-087afbf3f388",
   "metadata": {},
   "outputs": [
    {
     "data": {
      "text/plain": [
       "62.64768647786199"
      ]
     },
     "execution_count": 373,
     "metadata": {},
     "output_type": "execute_result"
    }
   ],
   "source": [
    "df[df['is_promoted']== 0]['avg_training_score'].mean()"
   ]
  },
  {
   "cell_type": "code",
   "execution_count": 374,
   "id": "d36acc2f-afb8-41e6-ad15-73c1b7dc5d4c",
   "metadata": {},
   "outputs": [
    {
     "data": {
      "text/plain": [
       "Index([0, 1], dtype='int64', name='is_promoted')"
      ]
     },
     "execution_count": 374,
     "metadata": {},
     "output_type": "execute_result"
    }
   ],
   "source": [
    "Find_is_promoted.index"
   ]
  },
  {
   "cell_type": "code",
   "execution_count": 375,
   "id": "04fa85e2-2718-46e4-8f9e-33010487eadc",
   "metadata": {},
   "outputs": [
    {
     "data": {
      "text/plain": [
       "Index([0, 1], dtype='int64', name='is_promoted')"
      ]
     },
     "execution_count": 375,
     "metadata": {},
     "output_type": "execute_result"
    }
   ],
   "source": [
    "Find_is_promoted.index"
   ]
  },
  {
   "cell_type": "code",
   "execution_count": 376,
   "id": "8828c40d-8cc0-402b-bcdc-73164b204e65",
   "metadata": {},
   "outputs": [
    {
     "data": {
      "image/png": "[encoded data removed]",
      "text/plain": [
       "<Figure size 500x500 with 1 Axes>"
      ]
     },
     "metadata": {},
     "output_type": "display_data"
    }
   ],
   "source": [
    "# The department has the most candidates\n",
    "plt.pie(df['department'].value_counts() ,labels =  df['department'].value_counts().index)\n",
    "plt.show()"
   ]
  },
  {
   "cell_type": "markdown",
   "id": "392ec034-8f71-4055-b6c5-6cf5db9bdaf9",
   "metadata": {},
   "source": [
    "Most of those candidates came from the sales & marketing  "
   ]
  },
  {
   "cell_type": "code",
   "execution_count": 377,
   "id": "97bdc6f9-711a-4d04-ba89-86ea6a1e056c",
   "metadata": {},
   "outputs": [],
   "source": [
    "departmeant = df[['department', 'length_of_service','previous_year_rating','avg_training_score']].groupby('department').mean()"
   ]
  },
  {
   "cell_type": "code",
   "execution_count": 378,
   "id": "a105bec7-b61d-43a2-9b3e-c925c6b62c5a",
   "metadata": {},
   "outputs": [
    {
     "data": {
      "text/plain": [
       "<Axes: xlabel='previous_year_rating', ylabel='department'>"
      ]
     },
     "execution_count": 378,
     "metadata": {},
     "output_type": "execute_result"
    },
    {
     "data": {
      "image/png": "[encoded data removed]",
      "text/plain": [
       "<Figure size 500x500 with 1 Axes>"
      ]
     },
     "metadata": {},
     "output_type": "display_data"
    }
   ],
   "source": [
    "sns.histplot(departmeant ,y  = 'department',x = 'previous_year_rating' )"
   ]
  },
  {
   "cell_type": "markdown",
   "id": "3b37b07c-21c1-4ff2-a3d0-e8936a7d3c0f",
   "metadata": {},
   "source": [
    "Most of those with many years of experience came from other channels\n"
   ]
  },
  {
   "cell_type": "code",
   "execution_count": 381,
   "id": "b657d12e-f163-41e4-8795-264dd7c378f1",
   "metadata": {},
   "outputs": [
    {
     "data": {
      "text/html": [
       "<div>\n",
       "<style scoped>\n",
       "    .dataframe tbody tr th:only-of-type {\n",
       "        vertical-align: middle;\n",
       "    }\n",
       "\n",
       "    .dataframe tbody tr th {\n",
       "        vertical-align: top;\n",
       "    }\n",
       "\n",
       "    .dataframe thead th {\n",
       "        text-align: right;\n",
       "    }\n",
       "</style>\n",
       "<table border=\"1\" class=\"dataframe\">\n",
       "  <thead>\n",
       "    <tr style=\"text-align: right;\">\n",
       "      <th></th>\n",
       "      <th>length_of_service</th>\n",
       "      <th>previous_year_rating</th>\n",
       "      <th>avg_training_score</th>\n",
       "    </tr>\n",
       "    <tr>\n",
       "      <th>region</th>\n",
       "      <th></th>\n",
       "      <th></th>\n",
       "      <th></th>\n",
       "    </tr>\n",
       "  </thead>\n",
       "  <tbody>\n",
       "    <tr>\n",
       "      <th>region_1</th>\n",
       "      <td>4.783607</td>\n",
       "      <td>3.393443</td>\n",
       "      <td>60.318033</td>\n",
       "    </tr>\n",
       "    <tr>\n",
       "      <th>region_10</th>\n",
       "      <td>5.680556</td>\n",
       "      <td>3.248457</td>\n",
       "      <td>63.243827</td>\n",
       "    </tr>\n",
       "    <tr>\n",
       "      <th>region_11</th>\n",
       "      <td>5.276046</td>\n",
       "      <td>3.327757</td>\n",
       "      <td>63.227376</td>\n",
       "    </tr>\n",
       "    <tr>\n",
       "      <th>region_12</th>\n",
       "      <td>4.176000</td>\n",
       "      <td>3.270000</td>\n",
       "      <td>61.396000</td>\n",
       "    </tr>\n",
       "    <tr>\n",
       "      <th>region_13</th>\n",
       "      <td>6.192221</td>\n",
       "      <td>3.328550</td>\n",
       "      <td>62.513595</td>\n",
       "    </tr>\n",
       "    <tr>\n",
       "      <th>region_14</th>\n",
       "      <td>5.932285</td>\n",
       "      <td>3.310762</td>\n",
       "      <td>61.551391</td>\n",
       "    </tr>\n",
       "    <tr>\n",
       "      <th>region_15</th>\n",
       "      <td>6.231125</td>\n",
       "      <td>3.330484</td>\n",
       "      <td>62.085826</td>\n",
       "    </tr>\n",
       "    <tr>\n",
       "      <th>region_16</th>\n",
       "      <td>5.690102</td>\n",
       "      <td>3.223891</td>\n",
       "      <td>61.873720</td>\n",
       "    </tr>\n",
       "    <tr>\n",
       "      <th>region_17</th>\n",
       "      <td>6.265075</td>\n",
       "      <td>3.430905</td>\n",
       "      <td>65.894472</td>\n",
       "    </tr>\n",
       "    <tr>\n",
       "      <th>region_18</th>\n",
       "      <td>4.129032</td>\n",
       "      <td>2.645161</td>\n",
       "      <td>51.096774</td>\n",
       "    </tr>\n",
       "  </tbody>\n",
       "</table>\n",
       "</div>"
      ],
      "text/plain": [
       "           length_of_service  previous_year_rating  avg_training_score\n",
       "region                                                                \n",
       "region_1            4.783607              3.393443           60.318033\n",
       "region_10           5.680556              3.248457           63.243827\n",
       "region_11           5.276046              3.327757           63.227376\n",
       "region_12           4.176000              3.270000           61.396000\n",
       "region_13           6.192221              3.328550           62.513595\n",
       "region_14           5.932285              3.310762           61.551391\n",
       "region_15           6.231125              3.330484           62.085826\n",
       "region_16           5.690102              3.223891           61.873720\n",
       "region_17           6.265075              3.430905           65.894472\n",
       "region_18           4.129032              2.645161           51.096774"
      ]
     },
     "execution_count": 381,
     "metadata": {},
     "output_type": "execute_result"
    }
   ],
   "source": [
    "region = df[['region', 'length_of_service','previous_year_rating','avg_training_score']].groupby('region').mean()\n",
    "region.head(10)"
   ]
  },
  {
   "cell_type": "code",
   "execution_count": 382,
   "id": "eb900a8a-4973-4f11-af5c-0920ee394ea5",
   "metadata": {},
   "outputs": [
    {
     "data": {
      "text/plain": [
       "<Axes: xlabel='length_of_service', ylabel='avg_training_score'>"
      ]
     },
     "execution_count": 382,
     "metadata": {},
     "output_type": "execute_result"
    },
    {
     "data": {
      "image/png": "[encoded data removed]",
      "text/plain": [
       "<Figure size 500x500 with 1 Axes>"
      ]
     },
     "metadata": {},
     "output_type": "display_data"
    }
   ],
   "source": [
    "sns.histplot(region , y = 'avg_training_score' , x=  'length_of_service')"
   ]
  },
  {
   "cell_type": "code",
   "execution_count": 383,
   "id": "50672f2b-50bd-4e7a-a212-c7e61abd1f4e",
   "metadata": {},
   "outputs": [
    {
     "data": {
      "text/html": [
       "<div>\n",
       "<style scoped>\n",
       "    .dataframe tbody tr th:only-of-type {\n",
       "        vertical-align: middle;\n",
       "    }\n",
       "\n",
       "    .dataframe tbody tr th {\n",
       "        vertical-align: top;\n",
       "    }\n",
       "\n",
       "    .dataframe thead th {\n",
       "        text-align: right;\n",
       "    }\n",
       "</style>\n",
       "<table border=\"1\" class=\"dataframe\">\n",
       "  <thead>\n",
       "    <tr style=\"text-align: right;\">\n",
       "      <th></th>\n",
       "      <th>awards_won?</th>\n",
       "      <th>avg_training_score</th>\n",
       "      <th>no_of_trainings</th>\n",
       "      <th>previous_year_rating</th>\n",
       "    </tr>\n",
       "    <tr>\n",
       "      <th>is_promoted</th>\n",
       "      <th></th>\n",
       "      <th></th>\n",
       "      <th></th>\n",
       "      <th></th>\n",
       "    </tr>\n",
       "  </thead>\n",
       "  <tbody>\n",
       "    <tr>\n",
       "      <th>0</th>\n",
       "      <td>0.014180</td>\n",
       "      <td>62.647686</td>\n",
       "      <td>1.257639</td>\n",
       "      <td>3.247686</td>\n",
       "    </tr>\n",
       "    <tr>\n",
       "      <th>1</th>\n",
       "      <td>0.119751</td>\n",
       "      <td>71.325193</td>\n",
       "      <td>1.203299</td>\n",
       "      <td>3.914524</td>\n",
       "    </tr>\n",
       "  </tbody>\n",
       "</table>\n",
       "</div>"
      ],
      "text/plain": [
       "             awards_won?  avg_training_score  no_of_trainings  \\\n",
       "is_promoted                                                     \n",
       "0               0.014180           62.647686         1.257639   \n",
       "1               0.119751           71.325193         1.203299   \n",
       "\n",
       "             previous_year_rating  \n",
       "is_promoted                        \n",
       "0                        3.247686  \n",
       "1                        3.914524  "
      ]
     },
     "execution_count": 383,
     "metadata": {},
     "output_type": "execute_result"
    }
   ],
   "source": [
    "Find_is_promoted = df[['is_promoted','awards_won?','avg_training_score','no_of_trainings','previous_year_rating']].groupby('is_promoted').mean()\n",
    "Find_is_promoted"
   ]
  },
  {
   "cell_type": "markdown",
   "id": "3b0fe2e1-a559-4b9c-a7b9-1e67ae9d81ea",
   "metadata": {},
   "source": [
    "A we see the most the features that has big impact to determine the appropriate candidate for the promotion are\n",
    "\n",
    "[ awards_won,avg_training_score,no_of_trainings\t,previous_year_rating ]"
   ]
  },
  {
   "cell_type": "code",
   "execution_count": 384,
   "id": "80a66a15-1461-42c8-91bc-22e82c8240e3",
   "metadata": {},
   "outputs": [],
   "source": [
    "df.drop('region',axis = 1 , inplace = True)"
   ]
  },
  {
   "cell_type": "markdown",
   "id": "1b0823a1-a51e-4ff5-ae43-57607e5346b5",
   "metadata": {},
   "source": [
    "<a id=\"5\"></a>\n",
    " <h2 style='background:#C2C4E2; border:0; color:black'><center>MODEL BUILDING</center></h2> \n",
    " \n",
    "# MODEL BUILDING\n",
    "\n",
    "\n",
    "**In this project, we build an artificial neural network.**\n",
    "\n",
    "**Following steps are involved in the model building**\n",
    "\n",
    "* Assining X and y the status of attributes and tags\n",
    "* Splitting test and training sets\n",
    "* Initialising the neural network\n",
    "* Defining by adding layers\n",
    "* Compiling the neural network\n",
    "* Train the neural network"
   ]
  },
  {
   "cell_type": "code",
   "execution_count": 385,
   "id": "ce735ea1-d791-44c1-a1ff-1a2f3e898188",
   "metadata": {},
   "outputs": [],
   "source": [
    "from keras.layers import Dense , Dropout \n",
    "from keras.models import Model , Sequential \n",
    "from keras.callbacks import EarlyStopping , TensorBoard\n",
    "from sklearn.model_selection import cross_validate , train_test_split\n",
    "from sklearn.preprocessing import StandardScaler\n",
    "from keras import callbacks"
   ]
  },
  {
   "cell_type": "markdown",
   "id": "db20e41f-11d0-4cf3-8571-f72e488e0e27",
   "metadata": {},
   "source": [
    "Encoding the categorical records\n",
    "\n",
    "['region','department','recruitment_channel']"
   ]
  },
  {
   "cell_type": "code",
   "execution_count": 388,
   "id": "2744417b-0b55-4b1a-9db5-e8839ac9f265",
   "metadata": {},
   "outputs": [],
   "source": [
    "data = pd.get_dummies(df,columns=['department','recruitment_channel'], dtype=float , drop_first= True )"
   ]
  },
  {
   "cell_type": "code",
   "execution_count": 390,
   "id": "17b36be2-7a11-4368-b17a-f98762b11e33",
   "metadata": {},
   "outputs": [],
   "source": [
    "x = data.drop('is_promoted',axis = 1)\n",
    "y = data['is_promoted']"
   ]
  },
  {
   "cell_type": "code",
   "execution_count": 391,
   "id": "22d325db-868e-4fe2-9386-13793188480d",
   "metadata": {},
   "outputs": [],
   "source": [
    "x_train,x_test,y_train,y_test = train_test_split(x,y,test_size=0.2,random_state=108)"
   ]
  },
  {
   "cell_type": "code",
   "execution_count": 392,
   "id": "065026f3-96e9-4ad7-b788-2d4ed6d91cd2",
   "metadata": {},
   "outputs": [
    {
     "data": {
      "text/plain": [
       "(43846, 18)"
      ]
     },
     "execution_count": 392,
     "metadata": {},
     "output_type": "execute_result"
    }
   ],
   "source": [
    "x_train.shape"
   ]
  },
  {
   "cell_type": "code",
   "execution_count": 393,
   "id": "74c914a2-570b-4ec1-9762-bd2bd6cfed80",
   "metadata": {},
   "outputs": [],
   "source": [
    "scal = StandardScaler()\n",
    "x_train[['age','avg_training_score']] = scal.fit_transform(x_train[['age','avg_training_score']])\n",
    "x_test[['age','avg_training_score']] = scal.fit_transform(x_test[['age','avg_training_score']] )"
   ]
  },
  {
   "cell_type": "code",
   "execution_count": 394,
   "id": "e98569ec-3ee2-4193-a065-f48706d3c65e",
   "metadata": {},
   "outputs": [],
   "source": [
    "early_stopping = callbacks.EarlyStopping(\n",
    "    min_delta=0.001, # minimium amount of change to count as an improvement\n",
    "    patience=20, # how many epochs to wait before stopping\n",
    "    restore_best_weights=True,\n",
    ")"
   ]
  },
  {
   "cell_type": "code",
   "execution_count": 399,
   "id": "091fc784-0391-4603-ae44-c621d0c0d813",
   "metadata": {},
   "outputs": [],
   "source": [
    "model = Sequential()\n",
    "model.add(Dense(256,activation='sigmoid',input_dim=18))\n",
    "model.add(Dense(128,activation='relu'))\n",
    "model.add(Dropout(0.25))\n",
    "model.add(Dense(64,activation='relu'))\n",
    "model.add(Dense(1,activation='sigmoid'))\n",
    "model.compile(loss='binary_crossentropy',optimizer='Adam' , metrics=['accuracy'])"
   ]
  },
  {
   "cell_type": "code",
   "execution_count": 400,
   "id": "75df9521-994c-4778-9647-01b5723d877c",
   "metadata": {},
   "outputs": [
    {
     "data": {
      "text/html": [
       "<pre style=\"white-space:pre;overflow-x:auto;line-height:normal;font-family:Menlo,'DejaVu Sans Mono',consolas,'Courier New',monospace\"><span style=\"font-weight: bold\">Model: \"sequential_6\"</span>\n",
       "</pre>\n"
      ],
      "text/plain": [
       "\u001b[1mModel: \"sequential_6\"\u001b[0m\n"
      ]
     },
     "metadata": {},
     "output_type": "display_data"
    },
    {
     "data": {
      "text/html": [
       "<pre style=\"white-space:pre;overflow-x:auto;line-height:normal;font-family:Menlo,'DejaVu Sans Mono',consolas,'Courier New',monospace\">┏━━━━━━━━━━━━━━━━━━━━━━━━━━━━━━━━━━━━━━┳━━━━━━━━━━━━━━━━━━━━━━━━━━━━━┳━━━━━━━━━━━━━━━━━┓\n",
       "┃<span style=\"font-weight: bold\"> Layer (type)                         </span>┃<span style=\"font-weight: bold\"> Output Shape                </span>┃<span style=\"font-weight: bold\">         Param # </span>┃\n",
       "┡━━━━━━━━━━━━━━━━━━━━━━━━━━━━━━━━━━━━━━╇━━━━━━━━━━━━━━━━━━━━━━━━━━━━━╇━━━━━━━━━━━━━━━━━┩\n",
       "│ dense_20 (<span style=\"color: #0087ff; text-decoration-color: #0087ff\">Dense</span>)                     │ (<span style=\"color: #00d7ff; text-decoration-color: #00d7ff\">None</span>, <span style=\"color: #00af00; text-decoration-color: #00af00\">256</span>)                 │           <span style=\"color: #00af00; text-decoration-color: #00af00\">4,864</span> │\n",
       "├──────────────────────────────────────┼─────────────────────────────┼─────────────────┤\n",
       "│ dense_21 (<span style=\"color: #0087ff; text-decoration-color: #0087ff\">Dense</span>)                     │ (<span style=\"color: #00d7ff; text-decoration-color: #00d7ff\">None</span>, <span style=\"color: #00af00; text-decoration-color: #00af00\">128</span>)                 │          <span style=\"color: #00af00; text-decoration-color: #00af00\">32,896</span> │\n",
       "├──────────────────────────────────────┼─────────────────────────────┼─────────────────┤\n",
       "│ dropout_2 (<span style=\"color: #0087ff; text-decoration-color: #0087ff\">Dropout</span>)                  │ (<span style=\"color: #00d7ff; text-decoration-color: #00d7ff\">None</span>, <span style=\"color: #00af00; text-decoration-color: #00af00\">128</span>)                 │               <span style=\"color: #00af00; text-decoration-color: #00af00\">0</span> │\n",
       "├──────────────────────────────────────┼─────────────────────────────┼─────────────────┤\n",
       "│ dense_22 (<span style=\"color: #0087ff; text-decoration-color: #0087ff\">Dense</span>)                     │ (<span style=\"color: #00d7ff; text-decoration-color: #00d7ff\">None</span>, <span style=\"color: #00af00; text-decoration-color: #00af00\">64</span>)                  │           <span style=\"color: #00af00; text-decoration-color: #00af00\">8,256</span> │\n",
       "├──────────────────────────────────────┼─────────────────────────────┼─────────────────┤\n",
       "│ dense_23 (<span style=\"color: #0087ff; text-decoration-color: #0087ff\">Dense</span>)                     │ (<span style=\"color: #00d7ff; text-decoration-color: #00d7ff\">None</span>, <span style=\"color: #00af00; text-decoration-color: #00af00\">1</span>)                   │              <span style=\"color: #00af00; text-decoration-color: #00af00\">65</span> │\n",
       "└──────────────────────────────────────┴─────────────────────────────┴─────────────────┘\n",
       "</pre>\n"
      ],
      "text/plain": [
       "┏━━━━━━━━━━━━━━━━━━━━━━━━━━━━━━━━━━━━━━┳━━━━━━━━━━━━━━━━━━━━━━━━━━━━━┳━━━━━━━━━━━━━━━━━┓\n",
       "┃\u001b[1m \u001b[0m\u001b[1mLayer (type)                        \u001b[0m\u001b[1m \u001b[0m┃\u001b[1m \u001b[0m\u001b[1mOutput Shape               \u001b[0m\u001b[1m \u001b[0m┃\u001b[1m \u001b[0m\u001b[1m        Param #\u001b[0m\u001b[1m \u001b[0m┃\n",
       "┡━━━━━━━━━━━━━━━━━━━━━━━━━━━━━━━━━━━━━━╇━━━━━━━━━━━━━━━━━━━━━━━━━━━━━╇━━━━━━━━━━━━━━━━━┩\n",
       "│ dense_20 (\u001b[38;5;33mDense\u001b[0m)                     │ (\u001b[38;5;45mNone\u001b[0m, \u001b[38;5;34m256\u001b[0m)                 │           \u001b[38;5;34m4,864\u001b[0m │\n",
       "├──────────────────────────────────────┼─────────────────────────────┼─────────────────┤\n",
       "│ dense_21 (\u001b[38;5;33mDense\u001b[0m)                     │ (\u001b[38;5;45mNone\u001b[0m, \u001b[38;5;34m128\u001b[0m)                 │          \u001b[38;5;34m32,896\u001b[0m │\n",
       "├──────────────────────────────────────┼─────────────────────────────┼─────────────────┤\n",
       "│ dropout_2 (\u001b[38;5;33mDropout\u001b[0m)                  │ (\u001b[38;5;45mNone\u001b[0m, \u001b[38;5;34m128\u001b[0m)                 │               \u001b[38;5;34m0\u001b[0m │\n",
       "├──────────────────────────────────────┼─────────────────────────────┼─────────────────┤\n",
       "│ dense_22 (\u001b[38;5;33mDense\u001b[0m)                     │ (\u001b[38;5;45mNone\u001b[0m, \u001b[38;5;34m64\u001b[0m)                  │           \u001b[38;5;34m8,256\u001b[0m │\n",
       "├──────────────────────────────────────┼─────────────────────────────┼─────────────────┤\n",
       "│ dense_23 (\u001b[38;5;33mDense\u001b[0m)                     │ (\u001b[38;5;45mNone\u001b[0m, \u001b[38;5;34m1\u001b[0m)                   │              \u001b[38;5;34m65\u001b[0m │\n",
       "└──────────────────────────────────────┴─────────────────────────────┴─────────────────┘\n"
      ]
     },
     "metadata": {},
     "output_type": "display_data"
    },
    {
     "data": {
      "text/html": [
       "<pre style=\"white-space:pre;overflow-x:auto;line-height:normal;font-family:Menlo,'DejaVu Sans Mono',consolas,'Courier New',monospace\"><span style=\"font-weight: bold\"> Total params: </span><span style=\"color: #00af00; text-decoration-color: #00af00\">46,081</span> (180.00 KB)\n",
       "</pre>\n"
      ],
      "text/plain": [
       "\u001b[1m Total params: \u001b[0m\u001b[38;5;34m46,081\u001b[0m (180.00 KB)\n"
      ]
     },
     "metadata": {},
     "output_type": "display_data"
    },
    {
     "data": {
      "text/html": [
       "<pre style=\"white-space:pre;overflow-x:auto;line-height:normal;font-family:Menlo,'DejaVu Sans Mono',consolas,'Courier New',monospace\"><span style=\"font-weight: bold\"> Trainable params: </span><span style=\"color: #00af00; text-decoration-color: #00af00\">46,081</span> (180.00 KB)\n",
       "</pre>\n"
      ],
      "text/plain": [
       "\u001b[1m Trainable params: \u001b[0m\u001b[38;5;34m46,081\u001b[0m (180.00 KB)\n"
      ]
     },
     "metadata": {},
     "output_type": "display_data"
    },
    {
     "data": {
      "text/html": [
       "<pre style=\"white-space:pre;overflow-x:auto;line-height:normal;font-family:Menlo,'DejaVu Sans Mono',consolas,'Courier New',monospace\"><span style=\"font-weight: bold\"> Non-trainable params: </span><span style=\"color: #00af00; text-decoration-color: #00af00\">0</span> (0.00 B)\n",
       "</pre>\n"
      ],
      "text/plain": [
       "\u001b[1m Non-trainable params: \u001b[0m\u001b[38;5;34m0\u001b[0m (0.00 B)\n"
      ]
     },
     "metadata": {},
     "output_type": "display_data"
    }
   ],
   "source": [
    "model.summary()"
   ]
  },
  {
   "cell_type": "code",
   "execution_count": 401,
   "id": "c1b792df-4f7b-4b34-87d7-c350635948d4",
   "metadata": {},
   "outputs": [
    {
     "name": "stdout",
     "output_type": "stream",
     "text": [
      "Epoch 1/20\n",
      "\u001b[1m1371/1371\u001b[0m \u001b[32m━━━━━━━━━━━━━━━━━━━━\u001b[0m\u001b[37m\u001b[0m \u001b[1m6s\u001b[0m 2ms/step - accuracy: 0.9175 - loss: 0.2752\n",
      "Epoch 2/20\n",
      "\u001b[1m1371/1371\u001b[0m \u001b[32m━━━━━━━━━━━━━━━━━━━━\u001b[0m\u001b[37m\u001b[0m \u001b[1m2s\u001b[0m 2ms/step - accuracy: 0.9238 - loss: 0.2453\n",
      "Epoch 3/20\n",
      "\u001b[1m1371/1371\u001b[0m \u001b[32m━━━━━━━━━━━━━━━━━━━━\u001b[0m\u001b[37m\u001b[0m \u001b[1m2s\u001b[0m 2ms/step - accuracy: 0.9288 - loss: 0.2369\n",
      "Epoch 4/20\n",
      "\u001b[1m1371/1371\u001b[0m \u001b[32m━━━━━━━━━━━━━━━━━━━━\u001b[0m\u001b[37m\u001b[0m \u001b[1m2s\u001b[0m 2ms/step - accuracy: 0.9354 - loss: 0.2214\n",
      "Epoch 5/20\n",
      "\u001b[1m1371/1371\u001b[0m \u001b[32m━━━━━━━━━━━━━━━━━━━━\u001b[0m\u001b[37m\u001b[0m \u001b[1m2s\u001b[0m 2ms/step - accuracy: 0.9405 - loss: 0.2081\n",
      "Epoch 6/20\n",
      "\u001b[1m1371/1371\u001b[0m \u001b[32m━━━━━━━━━━━━━━━━━━━━\u001b[0m\u001b[37m\u001b[0m \u001b[1m2s\u001b[0m 2ms/step - accuracy: 0.9388 - loss: 0.2109\n",
      "Epoch 7/20\n",
      "\u001b[1m1371/1371\u001b[0m \u001b[32m━━━━━━━━━━━━━━━━━━━━\u001b[0m\u001b[37m\u001b[0m \u001b[1m2s\u001b[0m 2ms/step - accuracy: 0.9394 - loss: 0.2100\n",
      "Epoch 8/20\n",
      "\u001b[1m1371/1371\u001b[0m \u001b[32m━━━━━━━━━━━━━━━━━━━━\u001b[0m\u001b[37m\u001b[0m \u001b[1m2s\u001b[0m 2ms/step - accuracy: 0.9404 - loss: 0.2076\n",
      "Epoch 9/20\n",
      "\u001b[1m1371/1371\u001b[0m \u001b[32m━━━━━━━━━━━━━━━━━━━━\u001b[0m\u001b[37m\u001b[0m \u001b[1m3s\u001b[0m 2ms/step - accuracy: 0.9404 - loss: 0.2101\n",
      "Epoch 10/20\n",
      "\u001b[1m1371/1371\u001b[0m \u001b[32m━━━━━━━━━━━━━━━━━━━━\u001b[0m\u001b[37m\u001b[0m \u001b[1m2s\u001b[0m 1ms/step - accuracy: 0.9434 - loss: 0.1998\n",
      "Epoch 11/20\n",
      "\u001b[1m1371/1371\u001b[0m \u001b[32m━━━━━━━━━━━━━━━━━━━━\u001b[0m\u001b[37m\u001b[0m \u001b[1m2s\u001b[0m 2ms/step - accuracy: 0.9416 - loss: 0.2033\n",
      "Epoch 12/20\n",
      "\u001b[1m1371/1371\u001b[0m \u001b[32m━━━━━━━━━━━━━━━━━━━━\u001b[0m\u001b[37m\u001b[0m \u001b[1m2s\u001b[0m 2ms/step - accuracy: 0.9378 - loss: 0.2116\n",
      "Epoch 13/20\n",
      "\u001b[1m1371/1371\u001b[0m \u001b[32m━━━━━━━━━━━━━━━━━━━━\u001b[0m\u001b[37m\u001b[0m \u001b[1m2s\u001b[0m 2ms/step - accuracy: 0.9409 - loss: 0.2061\n",
      "Epoch 14/20\n",
      "\u001b[1m1371/1371\u001b[0m \u001b[32m━━━━━━━━━━━━━━━━━━━━\u001b[0m\u001b[37m\u001b[0m \u001b[1m2s\u001b[0m 2ms/step - accuracy: 0.9402 - loss: 0.2062\n",
      "Epoch 15/20\n",
      "\u001b[1m1371/1371\u001b[0m \u001b[32m━━━━━━━━━━━━━━━━━━━━\u001b[0m\u001b[37m\u001b[0m \u001b[1m2s\u001b[0m 2ms/step - accuracy: 0.9413 - loss: 0.2066\n",
      "Epoch 16/20\n",
      "\u001b[1m1371/1371\u001b[0m \u001b[32m━━━━━━━━━━━━━━━━━━━━\u001b[0m\u001b[37m\u001b[0m \u001b[1m2s\u001b[0m 2ms/step - accuracy: 0.9394 - loss: 0.2096\n",
      "Epoch 17/20\n",
      "\u001b[1m1371/1371\u001b[0m \u001b[32m━━━━━━━━━━━━━━━━━━━━\u001b[0m\u001b[37m\u001b[0m \u001b[1m3s\u001b[0m 2ms/step - accuracy: 0.9414 - loss: 0.2063\n",
      "Epoch 18/20\n",
      "\u001b[1m1371/1371\u001b[0m \u001b[32m━━━━━━━━━━━━━━━━━━━━\u001b[0m\u001b[37m\u001b[0m \u001b[1m2s\u001b[0m 2ms/step - accuracy: 0.9410 - loss: 0.2055\n",
      "Epoch 19/20\n",
      "\u001b[1m1371/1371\u001b[0m \u001b[32m━━━━━━━━━━━━━━━━━━━━\u001b[0m\u001b[37m\u001b[0m \u001b[1m2s\u001b[0m 2ms/step - accuracy: 0.9408 - loss: 0.2062\n",
      "Epoch 20/20\n",
      "\u001b[1m1371/1371\u001b[0m \u001b[32m━━━━━━━━━━━━━━━━━━━━\u001b[0m\u001b[37m\u001b[0m \u001b[1m2s\u001b[0m 2ms/step - accuracy: 0.9411 - loss: 0.2055\n"
     ]
    }
   ],
   "source": [
    "hist = model.fit(x_train, y_train,epochs=20 )"
   ]
  },
  {
   "cell_type": "code",
   "execution_count": 404,
   "id": "8f3d45ab-3df5-435b-a9a3-2481a1a03e79",
   "metadata": {},
   "outputs": [
    {
     "data": {
      "image/png": "[encoded data removed]",
      "text/plain": [
       "<Figure size 500x500 with 1 Axes>"
      ]
     },
     "metadata": {},
     "output_type": "display_data"
    }
   ],
   "source": [
    "import matplotlib.pyplot as plt\n",
    "plt.plot(hist.history['loss'])\n",
    "plt.plot(hist.history['accuracy'])\n",
    "plt.show()"
   ]
  },
  {
   "cell_type": "code",
   "execution_count": 403,
   "id": "0556c597-63ea-4311-aff5-b441de517516",
   "metadata": {},
   "outputs": [
    {
     "name": "stdout",
     "output_type": "stream",
     "text": [
      "\u001b[1m343/343\u001b[0m \u001b[32m━━━━━━━━━━━━━━━━━━━━\u001b[0m\u001b[37m\u001b[0m \u001b[1m1s\u001b[0m 1ms/step\n"
     ]
    },
    {
     "data": {
      "text/plain": [
       "array([[0.0931915 ],\n",
       "       [0.05707025],\n",
       "       [0.08342904],\n",
       "       ...,\n",
       "       [0.3835693 ],\n",
       "       [0.13172588],\n",
       "       [0.9999972 ]], dtype=float32)"
      ]
     },
     "execution_count": 403,
     "metadata": {},
     "output_type": "execute_result"
    }
   ],
   "source": [
    "model.predict(x_test)"
   ]
  },
  {
   "cell_type": "code",
   "execution_count": 405,
   "id": "90a0a766-2bb6-45c0-902a-eb4db6d976e7",
   "metadata": {},
   "outputs": [
    {
     "name": "stdout",
     "output_type": "stream",
     "text": [
      "\u001b[1m343/343\u001b[0m \u001b[32m━━━━━━━━━━━━━━━━━━━━\u001b[0m\u001b[37m\u001b[0m \u001b[1m0s\u001b[0m 1ms/step\n"
     ]
    },
    {
     "data": {
      "text/plain": [
       "array([[0],\n",
       "       [0],\n",
       "       [0],\n",
       "       ...,\n",
       "       [0],\n",
       "       [0],\n",
       "       [1]])"
      ]
     },
     "execution_count": 405,
     "metadata": {},
     "output_type": "execute_result"
    }
   ],
   "source": [
    "y_pred = np.where(model.predict(x_test)>0.5,1,0)\n",
    "y_pred"
   ]
  },
  {
   "cell_type": "code",
   "execution_count": 406,
   "id": "d03ad26c-1d84-4d48-bbc9-9fb3eef3daa9",
   "metadata": {},
   "outputs": [
    {
     "data": {
      "text/plain": [
       "0.9417077175697866"
      ]
     },
     "execution_count": 406,
     "metadata": {},
     "output_type": "execute_result"
    }
   ],
   "source": [
    "from sklearn.metrics import accuracy_score\n",
    "accuracy_score(y_test,y_pred)"
   ]
  },
  {
   "cell_type": "code",
   "execution_count": null,
   "id": "ec9b08ab-dc67-4ed4-a15e-c710c2cf4fbc",
   "metadata": {},
   "outputs": [],
   "source": [
    "df[:360] "
   ]
  },
  {
   "cell_type": "code",
   "execution_count": 410,
   "id": "62e540ba-0f93-415a-ac43-6c5d48faee7f",
   "metadata": {},
   "outputs": [
    {
     "name": "stdout",
     "output_type": "stream",
     "text": [
      "\u001b[1m1/1\u001b[0m \u001b[32m━━━━━━━━━━━━━━━━━━━━\u001b[0m\u001b[37m\u001b[0m \u001b[1m0s\u001b[0m 24ms/step\n"
     ]
    },
    {
     "data": {
      "text/plain": [
       "array([[0.0931915 ],\n",
       "       [0.05707025],\n",
       "       [0.08342904],\n",
       "       [0.12553564],\n",
       "       [0.07810444],\n",
       "       [0.08988568],\n",
       "       [0.07092874],\n",
       "       [0.13383195],\n",
       "       [0.01945354],\n",
       "       [0.10202853],\n",
       "       [0.05685434],\n",
       "       [0.11551312],\n",
       "       [0.31058365],\n",
       "       [0.06007216],\n",
       "       [0.12969597],\n",
       "       [0.07753355],\n",
       "       [0.26743746],\n",
       "       [0.02880986],\n",
       "       [0.0931007 ],\n",
       "       [0.12252267]], dtype=float32)"
      ]
     },
     "execution_count": 410,
     "metadata": {},
     "output_type": "execute_result"
    }
   ],
   "source": [
    "##The person with the score closest to 1 is most likely to be promoted\n",
    "\n",
    "model.predict(x_test[:20])"
   ]
  },
  {
   "cell_type": "code",
   "execution_count": null,
   "id": "43344931-d0c1-40fc-9a33-0a397df2ffa0",
   "metadata": {},
   "outputs": [],
   "source": []
  },
  {
   "cell_type": "code",
   "execution_count": 407,
   "id": "e605f2ff-2c0e-4ea8-b47f-bb12296d4995",
   "metadata": {},
   "outputs": [],
   "source": [
    "import joblib"
   ]
  },
  {
   "cell_type": "code",
   "execution_count": 412,
   "id": "e3a5b947-2e34-478f-84eb-64015352cdb5",
   "metadata": {},
   "outputs": [
    {
     "data": {
      "text/plain": [
       "['ANNpromotion_inputs']"
      ]
     },
     "execution_count": 412,
     "metadata": {},
     "output_type": "execute_result"
    }
   ],
   "source": [
    "joblib.dump(model , 'ANN_model_promotion.pkl')\n",
    "joblib.dump(x_test.columns , 'ANNpromotion_inputs')\n"
   ]
  },
  {
   "cell_type": "code",
   "execution_count": null,
   "id": "34b1e965-cb04-4303-80b5-4f6c71902a4d",
   "metadata": {},
   "outputs": [],
   "source": []
  },
  {
   "cell_type": "code",
   "execution_count": null,
   "id": "de98d155-ab88-4b9c-a7e4-4156d643cded",
   "metadata": {},
   "outputs": [],
   "source": []
  },
  {
   "cell_type": "code",
   "execution_count": null,
   "id": "4b37cd50-15de-416c-aa7f-fa4285381dc5",
   "metadata": {},
   "outputs": [],
   "source": []
  },
  {
   "cell_type": "code",
   "execution_count": null,
   "id": "45b0f42f-c5ef-4a6f-b18c-0edfc547d879",
   "metadata": {},
   "outputs": [],
   "source": []
  }
 ],
 "metadata": {
  "kernelspec": {
   "display_name": "Python 3 (ipykernel)",
   "language": "python",
   "name": "python3"
  },
  "language_info": {
   "codemirror_mode": {
    "name": "ipython",
    "version": 3
   },
   "file_extension": ".py",
   "mimetype": "text/x-python",
   "name": "python",
   "nbconvert_exporter": "python",
   "pygments_lexer": "ipython3",
   "version": "3.11.7"
  }
 },
 "nbformat": 4,
 "nbformat_minor": 5
}
